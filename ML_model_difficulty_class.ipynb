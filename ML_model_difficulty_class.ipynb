{
 "cells": [
  {
   "cell_type": "code",
   "execution_count": 2,
   "id": "100d0f1a",
   "metadata": {},
   "outputs": [],
   "source": [
    "import pandas as pd"
   ]
  },
  {
   "cell_type": "code",
   "execution_count": 3,
   "id": "1a7241d0",
   "metadata": {},
   "outputs": [],
   "source": [
    "df = pd.read_csv(\"flight_analysis.csv\")"
   ]
  },
  {
   "cell_type": "code",
   "execution_count": 4,
   "id": "c9592c1c",
   "metadata": {},
   "outputs": [],
   "source": [
    "features = [\n",
    "    'departure_delay_norm', \n",
    "    'ground_time_pressure_norm', \n",
    "    'pax_load_ratio_norm', \n",
    "    'transfer_ratio_norm', \n",
    "    'child_ratio_norm', \n",
    "    'special_req_count_norm'\n",
    "]\n",
    "target = 'difficulty_class'"
   ]
  },
  {
   "cell_type": "code",
   "execution_count": 5,
   "id": "a03cfdcc",
   "metadata": {},
   "outputs": [],
   "source": [
    "from sklearn.model_selection import train_test_split\n",
    "X = df[features]\n",
    "y = df[target]\n",
    "\n",
    "X_train, X_test, y_train, y_test = train_test_split(X, y, test_size=0.2, random_state=42)"
   ]
  },
  {
   "cell_type": "code",
   "execution_count": 6,
   "id": "fc358cf9",
   "metadata": {},
   "outputs": [
    {
     "name": "stdout",
     "output_type": "stream",
     "text": [
      "              precision    recall  f1-score   support\n",
      "\n",
      "   Difficult       0.94      0.91      0.93       301\n",
      "        Easy       0.92      0.89      0.90       299\n",
      "      Medium       0.82      0.88      0.85       301\n",
      "\n",
      "    accuracy                           0.89       901\n",
      "   macro avg       0.90      0.89      0.89       901\n",
      "weighted avg       0.89      0.89      0.89       901\n",
      "\n"
     ]
    }
   ],
   "source": [
    "from sklearn.linear_model import LogisticRegression\n",
    "from sklearn.metrics import classification_report\n",
    "lr_model = LogisticRegression(max_iter=1000, random_state=42)\n",
    "lr_model.fit(X_train, y_train)\n",
    "\n",
    "y_pred_lr = lr_model.predict(X_test)\n",
    "print(classification_report(y_test, y_pred_lr))"
   ]
  },
  {
   "cell_type": "code",
   "execution_count": 7,
   "id": "837e68c8",
   "metadata": {},
   "outputs": [],
   "source": [
    "from sklearn.ensemble import RandomForestClassifier\n",
    "from sklearn.metrics import classification_report, confusion_matrix\n",
    "\n",
    "model = RandomForestClassifier(n_estimators=100, random_state=42)\n",
    "model.fit(X_train, y_train)\n",
    "\n",
    "y_pred = model.predict(X_test)"
   ]
  },
  {
   "cell_type": "code",
   "execution_count": 8,
   "id": "d21668eb",
   "metadata": {},
   "outputs": [
    {
     "name": "stdout",
     "output_type": "stream",
     "text": [
      "              precision    recall  f1-score   support\n",
      "\n",
      "   Difficult       0.92      0.91      0.91       301\n",
      "        Easy       0.96      0.91      0.94       299\n",
      "      Medium       0.83      0.88      0.85       301\n",
      "\n",
      "    accuracy                           0.90       901\n",
      "   macro avg       0.90      0.90      0.90       901\n",
      "weighted avg       0.90      0.90      0.90       901\n",
      "\n"
     ]
    }
   ],
   "source": [
    "print(classification_report(y_test, y_pred))"
   ]
  }
 ],
 "metadata": {
  "kernelspec": {
   "display_name": "venv",
   "language": "python",
   "name": "python3"
  },
  "language_info": {
   "codemirror_mode": {
    "name": "ipython",
    "version": 3
   },
   "file_extension": ".py",
   "mimetype": "text/x-python",
   "name": "python",
   "nbconvert_exporter": "python",
   "pygments_lexer": "ipython3",
   "version": "3.13.5"
  }
 },
 "nbformat": 4,
 "nbformat_minor": 5
}
